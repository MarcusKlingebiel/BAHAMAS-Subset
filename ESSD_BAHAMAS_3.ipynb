{
 "cells": [
  {
   "cell_type": "code",
   "execution_count": 1,
   "metadata": {},
   "outputs": [],
   "source": [
    "import numpy as np\n",
    "import pandas as pd\n",
    "import glob\n",
    "import xarray as xr\n",
    "import netCDF4 \n",
    "from tqdm import tqdm_notebook as tqdm\n",
    "import os\n",
    "from datetime import date\n",
    "import datetime"
   ]
  },
  {
   "cell_type": "code",
   "execution_count": 2,
   "metadata": {},
   "outputs": [],
   "source": [
    "#Load BAHAMAS files (version from DLR-HALO-DATABASE)\n",
    "file_list = sorted(glob.glob(\"/Users/marcusklingebiel/Desktop/BAHAMAS/\"+\"*.nc\"))\n",
    "\n",
    "prefix = \"EUREC4A_10Hz_Position_Attitude_\""
   ]
  },
  {
   "cell_type": "code",
   "execution_count": 3,
   "metadata": {},
   "outputs": [
    {
     "data": {
      "text/plain": [
       "'20200115a'"
      ]
     },
     "execution_count": 3,
     "metadata": {},
     "output_type": "execute_result"
    }
   ],
   "source": [
    "file_list[0][-12:-3]"
   ]
  },
  {
   "cell_type": "code",
   "execution_count": 7,
   "metadata": {},
   "outputs": [
    {
     "name": "stderr",
     "output_type": "stream",
     "text": [
      "/opt/anaconda3/lib/python3.7/site-packages/ipykernel_launcher.py:5: TqdmDeprecationWarning: This function will be removed in tqdm==5.0.0\n",
      "Please use `tqdm.notebook.tqdm` instead of `tqdm.tqdm_notebook`\n",
      "  \"\"\"\n"
     ]
    },
    {
     "data": {
      "application/vnd.jupyter.widget-view+json": {
       "model_id": "7c040fba4ef545f6aceee462bbdbe273",
       "version_major": 2,
       "version_minor": 0
      },
      "text/plain": [
       "HBox(children=(FloatProgress(value=0.0, max=17.0), HTML(value='')))"
      ]
     },
     "metadata": {},
     "output_type": "display_data"
    },
    {
     "name": "stdout",
     "output_type": "stream",
     "text": [
      "\n"
     ]
    }
   ],
   "source": [
    "#Delete all nc files \n",
    "os.system(\"rm *.nc\")\n",
    "\n",
    "#Load old file\n",
    "for i in tqdm(range(len(file_list))):\n",
    "#for i in range(0,1):\n",
    "    file = xr.open_dataset(file_list[i],decode_times=False)\n",
    "    flight_acronym = file_list[i][-12:-3]\n",
    "    flight_id = \"HALO-\"+file_list[i][-8:-4]\n",
    "\n",
    "    #Create new netCDF file\n",
    "    ncfile = netCDF4.Dataset(prefix+flight_acronym+'.nc',mode='w',format='NETCDF4_CLASSIC')\n",
    "\n",
    "    #Create attributes\n",
    "    ncfile.title='EUERC4A position and attitude data'\n",
    "    ncfile.subtitle=\"10Hz subset based on DLR BAHAMAS data, processed by A.Giez, V.Dreiling, M.Zoeger, Ch. Mallaun; email: andreas.giez@dlr.de\"\n",
    "    ncfile.mission=\"EUREC4A\"\n",
    "    ncfile.platform=\"HALO\"\n",
    "    ncfile.flight_id=str(flight_id)\n",
    "    ncfile.date_last_revised=file.date_last_revised\n",
    "    today = date.today()\n",
    "    ncfile.file_created = \"File created by M. Klingebiel (email: marcus.klingebiel@uni-leipzig.de) on \"+today.strftime(\"%B %d, %Y\")\n",
    "    \n",
    "\n",
    "    #Create dimension\n",
    "    dim_dim = ncfile.createDimension('time', len(file.TIME.values[:]))\n",
    "\n",
    "    #Create variables\n",
    "    time = ncfile.createVariable('time', np.float64, ('time',),fill_value=-9900.0)\n",
    "    time.units = \"s\"\n",
    "    time.long_name = 'time in seconds since 1970-1-1 (UTC)'\n",
    "    \n",
    "\n",
    "    lat = ncfile.createVariable('lat', np.float64, ('time',),fill_value=-9900.0)\n",
    "    lat.units = 'degree'\n",
    "    lat.long_name = 'WGS84 Datum/Latitude'\n",
    "\n",
    "    lon = ncfile.createVariable('lon', np.float64, ('time',),fill_value=-9900.0)\n",
    "    lon.units = 'degree'\n",
    "    lon.long_name = 'WGS84 Datum/Longitude'\n",
    "\n",
    "    alt = ncfile.createVariable('alt', np.float32, ('time',),fill_value=-9900.0)\n",
    "    alt.units = 'm'\n",
    "    alt.long_name = 'WGS84 Datum/Elliptical Height'\n",
    "\n",
    "    roll = ncfile.createVariable('roll', np.float32, ('time',),fill_value=-9900.0)\n",
    "    roll.units = 'degree'\n",
    "    roll.long_name = 'roll angle'\n",
    "\n",
    "    pitch = ncfile.createVariable('pitch', np.float32, ('time',),fill_value=-9900.0)\n",
    "    pitch.units = 'degree'\n",
    "    pitch.long_name = 'pitch angle'\n",
    "\n",
    "    heading = ncfile.createVariable('heading', np.float32, ('time',),fill_value=-9900.0)\n",
    "    heading.units = 'degree'\n",
    "    heading.long_name = 'true heading'\n",
    "    \n",
    "    tas = ncfile.createVariable('tas', np.float32, ('time',),fill_value=-9900.0)\n",
    "    tas.units = 'm/s'\n",
    "    tas.long_name = 'True Air Speed'\n",
    "\n",
    "    #Write variables\n",
    "    time[:]    = file.TIME.values[:]\n",
    "    lat[:]     = file.IRS_LAT.values[:]\n",
    "    lon[:]     = file.IRS_LON.values[:]\n",
    "    alt[:]     = file.IRS_ALT.values[:]\n",
    "    roll[:]    = file.IRS_PHI.values[:]\n",
    "    pitch[:]   = file.IRS_THE.values[:]\n",
    "    heading[:] = file.IRS_HDG.values[:]\n",
    "    tas[:]     = file.TAS.values[:]\n",
    "\n",
    "\n",
    "    #Close file\n",
    "    ncfile.close()\n",
    "\n",
    "\n"
   ]
  },
  {
   "cell_type": "code",
   "execution_count": null,
   "metadata": {},
   "outputs": [],
   "source": []
  }
 ],
 "metadata": {
  "kernelspec": {
   "display_name": "Python 3",
   "language": "python",
   "name": "python3"
  },
  "language_info": {
   "codemirror_mode": {
    "name": "ipython",
    "version": 3
   },
   "file_extension": ".py",
   "mimetype": "text/x-python",
   "name": "python",
   "nbconvert_exporter": "python",
   "pygments_lexer": "ipython3",
   "version": "3.7.6"
  }
 },
 "nbformat": 4,
 "nbformat_minor": 2
}
