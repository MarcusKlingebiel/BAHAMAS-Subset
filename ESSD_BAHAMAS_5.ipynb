{
 "cells": [
  {
   "cell_type": "code",
   "execution_count": 1,
   "metadata": {},
   "outputs": [],
   "source": [
    "import numpy as np\n",
    "import pandas as pd\n",
    "import glob\n",
    "import xarray as xr\n",
    "import netCDF4 \n",
    "from tqdm import tqdm_notebook as tqdm\n",
    "import os\n",
    "from datetime import date\n",
    "import datetime"
   ]
  },
  {
   "cell_type": "markdown",
   "metadata": {},
   "source": [
    "Notes:\n",
    "\n",
    "Time since 2020-1-1\n",
    "\n",
    "https://github.com/eurec4a/meta/blob/master/naming_conventions.md\n",
    "\n",
    "https://cfconventions.org/cf-conventions/cf-conventions.html#time-coordinate\n"
   ]
  },
  {
   "cell_type": "code",
   "execution_count": 2,
   "metadata": {},
   "outputs": [],
   "source": [
    "#Load BAHAMAS files (version from DLR-HALO-DATABASE)\n",
    "file_list = sorted(glob.glob(\"/Users/marcusklingebiel/Desktop/BAHAMAS/\"+\"*.nc\"))\n",
    "\n",
    "prefix = \"EUREC4A_HALO_BAHAMAS_PositionAttitude_\""
   ]
  },
  {
   "cell_type": "code",
   "execution_count": 3,
   "metadata": {},
   "outputs": [
    {
     "data": {
      "text/plain": [
       "'20200115'"
      ]
     },
     "execution_count": 3,
     "metadata": {},
     "output_type": "execute_result"
    }
   ],
   "source": [
    "file_list[0][-12:-4]"
   ]
  },
  {
   "cell_type": "code",
   "execution_count": 18,
   "metadata": {},
   "outputs": [
    {
     "name": "stderr",
     "output_type": "stream",
     "text": [
      "/opt/anaconda3/lib/python3.7/site-packages/ipykernel_launcher.py:5: TqdmDeprecationWarning: This function will be removed in tqdm==5.0.0\n",
      "Please use `tqdm.notebook.tqdm` instead of `tqdm.tqdm_notebook`\n",
      "  \"\"\"\n"
     ]
    },
    {
     "data": {
      "application/vnd.jupyter.widget-view+json": {
       "model_id": "2248a3eae9af4e24bd29012c8de0971e",
       "version_major": 2,
       "version_minor": 0
      },
      "text/plain": [
       "HBox(children=(FloatProgress(value=0.0, max=17.0), HTML(value='')))"
      ]
     },
     "metadata": {},
     "output_type": "display_data"
    },
    {
     "name": "stdout",
     "output_type": "stream",
     "text": [
      "\n"
     ]
    }
   ],
   "source": [
    "#Delete all nc files \n",
    "os.system(\"rm *.nc\")\n",
    "\n",
    "#Load old file\n",
    "for i in tqdm(range(len(file_list))):\n",
    "#for i in range(0,1):\n",
    "    file = xr.open_dataset(file_list[i],decode_times=False)\n",
    "    flight_acronym = file_list[i][-12:-4]\n",
    "    flight_id = \"HALO-\"+file_list[i][-8:-4]\n",
    "    filename = file_list[i][-66:]\n",
    "\n",
    "    #Create new netCDF file\n",
    "    ncfile = netCDF4.Dataset(prefix+flight_acronym+'_v1.0.nc',mode='w',format='NETCDF4_CLASSIC')\n",
    "\n",
    "    #Create attributes\n",
    "    ncfile.title='EUREC4A position and attitude data'\n",
    "    ncfile.subtitle=\"10Hz subset based on DLR BAHAMAS data, processed by A.Giez, V.Dreiling, M.Zoeger, Ch. Mallaun; email: andreas.giez@dlr.de\"\n",
    "    ncfile.mission=\"EUREC4A\"\n",
    "    ncfile.platform=\"HALO\"\n",
    "    ncfile.instrument = \"BAHAMAS\"\n",
    "    ncfile.flight_id=str(flight_id)\n",
    "    ncfile.source_file=str(filename)\n",
    "    ncfile.date_last_revised=file.date_last_revised\n",
    "    ncfile.featureType = \"trajectory\"\n",
    "    ncfile.Conventions = \"CF-1.7\"\n",
    "    today = date.today()\n",
    "    ncfile.version = \"1.0\"\n",
    "    ncfile.history = \"acquired by HALO BAHAMAS, processed and quality checked by DLR FX, subsetted and reformatted by Marcus Klingebiel\"\n",
    "    ncfile.file_created = \"File created by M. Klingebiel (email: marcus.klingebiel@uni-leipzig.de) on \"+today.strftime(\"%B %d, %Y\")\n",
    "    \n",
    "\n",
    "    #Create dimension\n",
    "    dim_dim = ncfile.createDimension('time', len(file.TIME.values[:]))\n",
    "\n",
    "    #Create variables\n",
    "    time = ncfile.createVariable('time', np.float64, ('time',),fill_value=-9900.0)\n",
    "    time.units = \"seconds since 2020-1-1 00:00\"\n",
    "    time.long_name = 'Time in seconds since 2020-1-1'\n",
    "    time.standard_name = \"time\"\n",
    "    time.calendar = \"standard\"\n",
    "    time.axis = \"T\"\n",
    "    \n",
    "    #timeold = ncfile.createVariable('timeOld', np.float64, ('time',),fill_value=-9900.0)\n",
    "    #timeold.units = \"seconds since 1970-1-1\"\n",
    "    #timeold.long_name = 'time in seconds since 1970-1-1 (UTC)'\n",
    "    \n",
    "    lat = ncfile.createVariable('lat', np.float64, ('time',),fill_value=-9900.0)\n",
    "    lat.units = 'degrees_north'\n",
    "    lat.long_name = 'WGS84 Datum/Latitude'\n",
    "    lat.standard_name = \"latitude\"\n",
    "    lat.axis = \"Y\"\n",
    "\n",
    "    lon = ncfile.createVariable('lon', np.float64, ('time',),fill_value=-9900.0)\n",
    "    lon.units = 'degrees_east'\n",
    "    lon.long_name = 'WGS84 Datum/Longitude'\n",
    "    lon.standard_name = \"longitude\"\n",
    "    lon.axis = \"X\"\n",
    "\n",
    "    alt = ncfile.createVariable('alt', np.float32, ('time',),fill_value=-9900.0)\n",
    "    alt.units = 'm'\n",
    "    alt.positive = \"up\"\n",
    "    alt.long_name = 'WGS84 Datum/Elliptical Height'\n",
    "    alt.standard_name = \"height_above_reference_ellipsoid\"\n",
    "    alt.axis = \"Z\"\n",
    "\n",
    "    roll = ncfile.createVariable('roll', np.float32, ('time',),fill_value=-9900.0)\n",
    "    roll.units = 'degrees'\n",
    "    roll.long_name = 'roll angle'\n",
    "    roll.standard_name = 'platform_roll_starboard_down'\n",
    "    roll.coordinates = \"lat lon alt\"\n",
    "\n",
    "    pitch = ncfile.createVariable('pitch', np.float32, ('time',),fill_value=-9900.0)\n",
    "    pitch.units = 'degrees'\n",
    "    pitch.long_name = 'pitch angle'\n",
    "    pitch.standard_name = \"platform_pitch_fore_up\"\n",
    "    roll.coordinates = \"lat lon alt\"\n",
    "\n",
    "    heading = ncfile.createVariable('heading', np.float32, ('time',),fill_value=-9900.0)\n",
    "    heading.units = 'degrees'\n",
    "    heading.long_name = 'true heading'\n",
    "    heading.standard_name = 'platform_yaw_fore_starboard'\n",
    "    roll.coordinates = \"lat lon alt\"\n",
    "    \n",
    "    tas = ncfile.createVariable('tas', np.float32, ('time',),fill_value=-9900.0)\n",
    "    tas.units = 'm/s'\n",
    "    tas.long_name = 'Calculated True Airspeed'\n",
    "    tas.standard_name = \"platform_speed_wrt_air\"\n",
    "    roll.coordinates = \"lat lon alt\"\n",
    "    \n",
    "    #Write variables\n",
    "    #timeold[:]    = file.TIME.values[:]\n",
    "    time[:]= file.TIME.values[:] - np.float64(datetime.datetime(2020,1,1,0,0).strftime(\"%s\"))\n",
    "    lat[:]     = file.IRS_LAT.values[:]\n",
    "    lon[:]     = file.IRS_LON.values[:]\n",
    "    alt[:]     = file.IRS_ALT.values[:]\n",
    "    roll[:]    = file.IRS_PHI.values[:]\n",
    "    pitch[:]   = file.IRS_THE.values[:]\n",
    "    heading[:] = file.IRS_HDG.values[:]\n",
    "    tas[:]     = file.TAS.values[:]\n",
    "\n",
    "\n",
    "    #Close file\n",
    "    ncfile.close()\n",
    "\n",
    "\n"
   ]
  },
  {
   "cell_type": "code",
   "execution_count": 5,
   "metadata": {},
   "outputs": [],
   "source": [
    "test = xr.load_dataset(prefix+flight_acronym+'_v1.0.nc')"
   ]
  },
  {
   "cell_type": "code",
   "execution_count": 6,
   "metadata": {},
   "outputs": [
    {
     "data": {
      "text/plain": [
       "array(['2020-02-18T11:11:05.000000000', '2020-02-18T11:11:05.099999904',\n",
       "       '2020-02-18T11:11:05.200000047', ...,\n",
       "       '2020-02-18T19:55:31.700000047', '2020-02-18T19:55:31.799999952',\n",
       "       '2020-02-18T19:55:31.900000095'], dtype='datetime64[ns]')"
      ]
     },
     "execution_count": 6,
     "metadata": {},
     "output_type": "execute_result"
    }
   ],
   "source": [
    "test.time.values"
   ]
  },
  {
   "cell_type": "code",
   "execution_count": null,
   "metadata": {},
   "outputs": [],
   "source": []
  }
 ],
 "metadata": {
  "kernelspec": {
   "display_name": "Python 3",
   "language": "python",
   "name": "python3"
  },
  "language_info": {
   "codemirror_mode": {
    "name": "ipython",
    "version": 3
   },
   "file_extension": ".py",
   "mimetype": "text/x-python",
   "name": "python",
   "nbconvert_exporter": "python",
   "pygments_lexer": "ipython3",
   "version": "3.7.6"
  }
 },
 "nbformat": 4,
 "nbformat_minor": 2
}
